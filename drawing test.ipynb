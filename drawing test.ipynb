{
 "cells": [
  {
   "cell_type": "code",
   "execution_count": 1,
   "metadata": {
    "collapsed": false
   },
   "outputs": [],
   "source": [
    "import pygame\n",
    "from pygame.locals import *\n",
    "import numpy as np\n",
    "class Renderer(object):\n",
    "    \n",
    "    def __init__(self, window_size=(1024, 768), render_fn=None, inplace=False, init=None):\n",
    "        self.window_size = window_size\n",
    "        self.inplace = inplace\n",
    "        self.render_fn = render_fn\n",
    "        if init is not None:\n",
    "            assert init.dtype == np.uint8 and init.shape == (window_size[0], window_size[1], 3), 'wrong type or shape for init'\n",
    "            self.pixarray = init\n",
    "        else:\n",
    "            self.pixarray = np.zeros((window_size[0], window_size[1], 3), dtype=np.uint8)\n",
    "        self.screen = pygame.display.set_mode(window_size)\n",
    "\n",
    "        \n",
    "    def render_loop(self):\n",
    "        ctr = 0\n",
    "        try:\n",
    "            while 1:\n",
    "                for event in pygame.event.get():\n",
    "                    if event.type == QUIT:\n",
    "                       raise StopIteration()\n",
    "\n",
    "                if self.render_fn is not None:\n",
    "                    if self.inplace:\n",
    "                        self.render_fn(buf=self.pixarray, frame_id=ctr)\n",
    "                        new_pix = self.pixarray\n",
    "                    else:\n",
    "                        new_pix = self.render_fn(buf=self.pixarray, frame_id=ctr).astype(np.uint8)\n",
    "                    pygame.surfarray.blit_array(self.screen, new_pix)\n",
    "                    pygame.display.flip()\n",
    "                    self.pixarray = new_pix\n",
    "                    ctr += 1\n",
    "        except StopIteration:\n",
    "            pass\n",
    "        finally:\n",
    "            pygame.display.quit()\n",
    "\n",
    "                \n",
    "    def __call__(self, fn):\n",
    "        \"decorator sugar\"\n",
    "        self.render_fn = fn\n",
    "        self.render_loop()\n",
    "        return fn"
   ]
  },
  {
   "cell_type": "code",
   "execution_count": 2,
   "metadata": {
    "collapsed": false
   },
   "outputs": [],
   "source": [
    "@Renderer(window_size=(1280, 1024))\n",
    "def noise(buf, frame_id):\n",
    "    return (np.random.rand(*buf.shape) * 255)"
   ]
  },
  {
   "cell_type": "code",
   "execution_count": 3,
   "metadata": {
    "collapsed": false
   },
   "outputs": [],
   "source": [
    "from PIL import Image\n",
    "test_image = Image.open('/Users/bob/Downloads/15954928163_f05dd11e2e_k.jpg', 'r').convert('RGB')\n",
    "test_image.thumbnail((1024, 768))\n",
    "test_image = np.asarray(test_image)\n",
    "@Renderer(init=test_image, window_size=test_image.shape[:2])\n",
    "def pulse(buf, frame_id):\n",
    "    res = np.roll(buf, 10)\n",
    "    return res"
   ]
  },
  {
   "cell_type": "code",
   "execution_count": 4,
   "metadata": {
    "collapsed": false
   },
   "outputs": [],
   "source": [
    "import subprocess\n",
    "def gaze_data():\n",
    "    proc = subprocess.Popen(['./MinimalGazeDataStream.exe'], stdout=subprocess.PIPE)\n",
    "    for row in proc.stdout:\n",
    "        if row.startswith('Gaze Data:'):\n",
    "            ts = row.split('timestamp')\n",
    "            ts_int = int(ts[1].strip())\n",
    "            coords = ts[0].split('(')[1].split(')')[0].split(',')\n",
    "            x_coord = float(coords[0].strip())\n",
    "            y_coord = float(coords[1].strip())\n",
    "            yield (x_coord, y_coord)"
   ]
  },
  {
   "cell_type": "code",
   "execution_count": 42,
   "metadata": {
    "collapsed": false
   },
   "outputs": [
    {
     "name": "stdout",
     "output_type": "stream",
     "text": [
      "<ctypes.c_char_Array_256 object at 0x00000000094445C8>\n",
      "''\n",
      "<tobii_lib.struct.TobiiDeviceInfo object at 0x0000000009444748>\n",
      "c_void_p(None)\n"
     ]
    },
    {
     "ename": "WindowsError",
     "evalue": "exception: access violation writing 0x00000000000004D8",
     "output_type": "error",
     "traceback": [
      "\u001b[1;31m---------------------------------------------------------------------------\u001b[0m",
      "\u001b[1;31mWindowsError\u001b[0m                              Traceback (most recent call last)",
      "\u001b[1;32m<ipython-input-42-212fc9877cf7>\u001b[0m in \u001b[0;36m<module>\u001b[1;34m()\u001b[0m\n\u001b[1;32m----> 1\u001b[1;33m \u001b[1;32mimport\u001b[0m \u001b[0mtobii_lib\u001b[0m\u001b[1;33m.\u001b[0m\u001b[0mstruct\u001b[0m \u001b[1;32mas\u001b[0m \u001b[0meye_x\u001b[0m\u001b[1;33m\u001b[0m\u001b[0m\n\u001b[0m",
      "\u001b[1;32mC:\\Users\\bob\\mirror, mirror\\tobii_lib\\struct.py\u001b[0m in \u001b[0;36m<module>\u001b[1;34m()\u001b[0m\n\u001b[0;32m    131\u001b[0m tobiiGazeCore64.tobiigaze_run_event_loop_on_internal_thread(eye_tracker, \n\u001b[0;32m    132\u001b[0m                                                                 \u001b[0mNone\u001b[0m\u001b[1;33m,\u001b[0m\u001b[1;33m\u001b[0m\u001b[0m\n\u001b[1;32m--> 133\u001b[1;33m                                                                 None)\n\u001b[0m\u001b[0;32m    134\u001b[0m \u001b[0mtobiiGazeCore64\u001b[0m\u001b[1;33m.\u001b[0m\u001b[0mtobiigaze_connect\u001b[0m\u001b[1;33m(\u001b[0m\u001b[0meye_tracker\u001b[0m\u001b[1;33m,\u001b[0m \u001b[0mbyref\u001b[0m\u001b[1;33m(\u001b[0m\u001b[0merrcode\u001b[0m\u001b[1;33m)\u001b[0m\u001b[1;33m)\u001b[0m\u001b[1;33m\u001b[0m\u001b[0m\n\u001b[0;32m    135\u001b[0m \u001b[1;33m\u001b[0m\u001b[0m\n",
      "\u001b[1;31mWindowsError\u001b[0m: exception: access violation writing 0x00000000000004D8"
     ]
    }
   ],
   "source": []
  },
  {
   "cell_type": "code",
   "execution_count": null,
   "metadata": {
    "collapsed": true
   },
   "outputs": [],
   "source": []
  }
 ],
 "metadata": {
  "kernelspec": {
   "display_name": "Python 2",
   "language": "python",
   "name": "python2"
  },
  "language_info": {
   "codemirror_mode": {
    "name": "ipython",
    "version": 2
   },
   "file_extension": ".py",
   "mimetype": "text/x-python",
   "name": "python",
   "nbconvert_exporter": "python",
   "pygments_lexer": "ipython2",
   "version": "2.7.11"
  }
 },
 "nbformat": 4,
 "nbformat_minor": 0
}
