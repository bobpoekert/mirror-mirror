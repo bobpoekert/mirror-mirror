{
 "cells": [
  {
   "cell_type": "code",
   "execution_count": 1,
   "metadata": {
    "collapsed": false
   },
   "outputs": [],
   "source": [
    "import pygame\n",
    "from pygame.locals import *\n",
    "import numpy as np\n",
    "class Renderer(object):\n",
    "    \n",
    "    def __init__(self, window_size=(1024, 768), render_fn=None, inplace=False, init=None, flags=None):\n",
    "        self.window_size = window_size\n",
    "        self.inplace = inplace\n",
    "        self.render_fn = render_fn\n",
    "        if init is not None:\n",
    "            assert init.dtype == np.uint8 and init.shape == (window_size[0], window_size[1], 3), 'wrong type or shape for init'\n",
    "            self.pixarray = init\n",
    "        else:\n",
    "            self.pixarray = np.zeros((window_size[0], window_size[1], 3), dtype=np.uint8)\n",
    "        if flags is None:\n",
    "            self.screen = pygame.display.set_mode(window_size)\n",
    "        else:\n",
    "            self.screen = pygame.display.set_mode(window_size, flags)\n",
    "\n",
    "        \n",
    "    def render_loop(self):\n",
    "        ctr = 0\n",
    "        try:\n",
    "            while 1:\n",
    "                for event in pygame.event.get():\n",
    "                    if event.type == QUIT or (event.type == KEYUP and event.key in (K_ESCAPE, K_q)):\n",
    "                       raise StopIteration()\n",
    "\n",
    "                if self.render_fn is not None:\n",
    "                    if self.inplace:\n",
    "                        self.render_fn(buf=self.pixarray, frame_id=ctr)\n",
    "                        new_pix = self.pixarray\n",
    "                    else:\n",
    "                        new_pix = self.render_fn(buf=self.pixarray, frame_id=ctr).astype(np.uint8)\n",
    "                    pygame.surfarray.blit_array(self.screen, new_pix)\n",
    "                    pygame.display.flip()\n",
    "                    self.pixarray = new_pix\n",
    "                    ctr += 1\n",
    "        except StopIteration:\n",
    "            pass\n",
    "        finally:\n",
    "            pygame.display.quit()\n",
    "\n",
    "                \n",
    "    def __call__(self, fn):\n",
    "        \"decorator sugar\"\n",
    "        self.render_fn = fn\n",
    "        self.render_loop()\n",
    "        return fn"
   ]
  },
  {
   "cell_type": "code",
   "execution_count": 2,
   "metadata": {
    "collapsed": true
   },
   "outputs": [],
   "source": [
    "import gaze_data\n",
    "from Queue import Queue\n",
    "\n",
    "class GazePoints(object):\n",
    "    \n",
    "    def __init__(self):\n",
    "        self.q = Queue(maxsize=100)\n",
    "        self.stream = gaze_data.DataStream(self.add_point)\n",
    "        \n",
    "    def add_point(self, x, y):\n",
    "        self.q.put((x, y))\n",
    "        \n",
    "    def get(self):\n",
    "        return self.q.get()"
   ]
  },
  {
   "cell_type": "code",
   "execution_count": 2,
   "metadata": {
    "collapsed": false
   },
   "outputs": [],
   "source": [
    "@Renderer(window_size=(1280, 1024))\n",
    "def noise(buf, frame_id):\n",
    "    return (np.random.rand(*buf.shape) * 255)"
   ]
  },
  {
   "cell_type": "code",
   "execution_count": 3,
   "metadata": {
    "collapsed": false
   },
   "outputs": [],
   "source": [
    "from PIL import Image\n",
    "test_image = Image.open('/Users/bob/Downloads/15954928163_f05dd11e2e_k.jpg', 'r').convert('RGB')\n",
    "test_image.thumbnail((1280, 1024))\n",
    "test_image = np.asarray(test_image)\n",
    "@Renderer(init=test_image, window_size=test_image.shape[:2])\n",
    "def pulse(buf, frame_id):\n",
    "    return (np.roll(buf, 9) | np.roll(buf, -9)) + 1\n"
   ]
  },
  {
   "cell_type": "code",
   "execution_count": 5,
   "metadata": {
    "collapsed": true
   },
   "outputs": [],
   "source": [
    "import threading\n",
    "class Fixation(object):\n",
    "    \n",
    "    def __init__(self):\n",
    "        self.proc = subprocess.Popen(['./MinimalFixationDataStream.exe'], stdout=subprocess.PIPE)\n",
    "        self.reader_thread = threading.Thread(target=self.read_loop)\n",
    "        self.reader_thread.start()\n",
    "        self.engaged = False\n",
    "        self.point = None\n",
    "        \n",
    "    def __del__(self):\n",
    "        if getattr(self, 'proc'):\n",
    "            self.proc.kill()\n",
    "\n",
    "    def read_loop(self):\n",
    "        for line in self.proc.stdout:\n",
    "            split_line = line.split(':', 1)\n",
    "            if len(split_line) != 2:\n",
    "                continue\n",
    "            k, data = split_line\n",
    "            if k in ('Fixation Begin', 'Fixation Data'):\n",
    "                vals = map(float, data.split('(')[1].split(')')[0].split(','))\n",
    "                self.point = vals\n",
    "                self.engaged = True\n",
    "            elif k == 'Fixation End':\n",
    "                self.engaged = False\n",
    "                self.point = None\n",
    "            if cnt > 10:\n",
    "                break\n",
    "        "
   ]
  },
  {
   "cell_type": "code",
   "execution_count": 6,
   "metadata": {
    "collapsed": false
   },
   "outputs": [],
   "source": [
    "fix = Fixation()"
   ]
  },
  {
   "cell_type": "code",
   "execution_count": 7,
   "metadata": {
    "collapsed": false,
    "scrolled": true
   },
   "outputs": [
    {
     "name": "stdout",
     "output_type": "stream",
     "text": [
      "None False\n",
      "None False\n",
      "None False\n",
      "[916.8, 1207.5] True\n",
      "[916.8, 1207.5] True\n",
      "[916.8, 1207.5] True\n",
      "[916.8, 1207.5] True\n",
      "[916.8, 1207.5] True\n",
      "[916.8, 1207.5] True\n",
      "[916.8, 1207.5] True\n",
      "[916.8, 1207.5] True\n",
      "[916.8, 1207.5] True\n",
      "[916.8, 1207.5] True\n",
      "[916.8, 1207.5] True\n",
      "[916.8, 1207.5] True\n",
      "[916.8, 1207.5] True\n",
      "[916.8, 1207.5] True\n",
      "[916.8, 1207.5] True\n",
      "[916.8, 1207.5] True\n",
      "[916.8, 1207.5] True\n"
     ]
    },
    {
     "name": "stderr",
     "output_type": "stream",
     "text": [
      "Exception in thread Thread-5:\n",
      "Traceback (most recent call last):\n",
      "  File \"C:\\Users\\bob\\Anaconda2\\lib\\threading.py\", line 801, in __bootstrap_inner\n",
      "    self.run()\n",
      "  File \"C:\\Users\\bob\\Anaconda2\\lib\\threading.py\", line 754, in run\n",
      "    self.__target(*self.__args, **self.__kwargs)\n",
      "  File \"<ipython-input-5-b53015fecc5d>\", line 28, in read_loop\n",
      "    if cnt > 10:\n",
      "NameError: global name 'cnt' is not defined\n",
      "\n"
     ]
    },
    {
     "ename": "KeyboardInterrupt",
     "evalue": "",
     "output_type": "error",
     "traceback": [
      "\u001b[1;31m---------------------------------------------------------------------------\u001b[0m",
      "\u001b[1;31mKeyboardInterrupt\u001b[0m                         Traceback (most recent call last)",
      "\u001b[1;32m<ipython-input-7-ceecd1aede8c>\u001b[0m in \u001b[0;36m<module>\u001b[1;34m()\u001b[0m\n\u001b[0;32m      2\u001b[0m \u001b[1;32mfor\u001b[0m \u001b[0mi\u001b[0m \u001b[1;32min\u001b[0m \u001b[0mxrange\u001b[0m\u001b[1;33m(\u001b[0m\u001b[1;36m1000\u001b[0m\u001b[1;33m)\u001b[0m\u001b[1;33m:\u001b[0m\u001b[1;33m\u001b[0m\u001b[0m\n\u001b[0;32m      3\u001b[0m     \u001b[1;32mprint\u001b[0m \u001b[0mfix\u001b[0m\u001b[1;33m.\u001b[0m\u001b[0mpoint\u001b[0m\u001b[1;33m,\u001b[0m \u001b[0mfix\u001b[0m\u001b[1;33m.\u001b[0m\u001b[0mengaged\u001b[0m\u001b[1;33m\u001b[0m\u001b[0m\n\u001b[1;32m----> 4\u001b[1;33m     \u001b[0mtime\u001b[0m\u001b[1;33m.\u001b[0m\u001b[0msleep\u001b[0m\u001b[1;33m(\u001b[0m\u001b[1;36m1\u001b[0m\u001b[1;33m)\u001b[0m\u001b[1;33m\u001b[0m\u001b[0m\n\u001b[0m",
      "\u001b[1;31mKeyboardInterrupt\u001b[0m: "
     ]
    }
   ],
   "source": [
    "import time\n",
    "for i in xrange(1000):\n",
    "    print fix.point, fix.engaged\n",
    "    time.sleep(1)"
   ]
  },
  {
   "cell_type": "code",
   "execution_count": 55,
   "metadata": {
    "collapsed": true
   },
   "outputs": [],
   "source": [
    "del fix"
   ]
  },
  {
   "cell_type": "code",
   "execution_count": 43,
   "metadata": {
    "collapsed": false,
    "scrolled": true
   },
   "outputs": [
    {
     "name": "stdout",
     "output_type": "stream",
     "text": [
      "Initialization was successful.\r\n",
      "\n",
      "Press any key to exit...\r\n",
      "\n",
      "The connection state is now TRYINGTOCONNECT (We are trying to connect to the EyeX Engine)\r\n",
      "\n",
      "The connection state is now CONNECTED (We are connected to the EyeX Engine)\r\n",
      "\n",
      "Waiting for gaze data to start streaming...\r\n",
      "\n",
      "(892.0, 901.9, 2103902)\n",
      "(894.1, 901.1, 16)\n",
      "(895.8, 901.1, 14)\n",
      "(896.8, 902.6, 16)\n",
      "(901.2, 909.7, 15)\n",
      "(908.5, 922.7, 14)\n",
      "(914.7, 929.7, 32)\n",
      "(913.9, 940.6, 12)\n",
      "(915.6, 930.5, 17)\n",
      "(921.7, 934.8, 15)\n",
      "(921.7, 936.8, 14)\n",
      "(929.3, 925.4, 17)\n",
      "(917.1, 915.2, 15)\n",
      "(903.4, 911.9, 13)\n",
      "(898.5, 908.0, 17)\n",
      "(897.0, 904.9, 29)\n",
      "(897.6, 909.4, 15)\n",
      "(889.8, 920.6, 15)\n",
      "(891.0, 929.0, 13)\n",
      "(895.2, 929.7, 23)\n",
      "(899.7, 925.3, 17)\n",
      "(901.0, 922.4, 12)\n",
      "(902.1, 919.7, 15)\n",
      "(905.6, 901.4, 11)\n",
      "(905.7, 716.0, 31)\n",
      "(908.1, 656.1, 14)\n",
      "(921.0, 620.4, 15)\n",
      "(925.9, 616.2, 15)\n",
      "(938.8, 585.2, 15)\n",
      "(937.9, 593.4, 14)\n",
      "(942.2, 603.4, 16)\n",
      "(940.3, 605.2, 15)\n",
      "(936.5, 626.9, 20)\n",
      "(933.2, 627.8, 34)\n",
      "(935.4, 627.5, 12)\n",
      "(932.4, 621.4, 12)\n",
      "(929.1, 618.1, 15)\n",
      "(927.6, 612.2, 12)\n",
      "(912.9, 573.0, 17)\n",
      "(898.1, 541.8, 12)\n",
      "(902.5, 563.0, 14)\n",
      "(885.9, 539.4, 16)\n",
      "(884.9, 543.8, 30)\n",
      "(882.8, 558.8, 15)\n",
      "(900.1, 563.6, 15)\n",
      "(891.2, 553.9, 14)\n",
      "(909.5, 565.9, 16)\n",
      "(919.0, 568.0, 15)\n",
      "(927.1, 572.8, 14)\n",
      "(937.9, 572.9, 16)\n",
      "(970.0, 568.4, 15)\n",
      "(989.8, 537.9, 31)\n",
      "(993.1, 536.7, 14)\n",
      "(1000.0, 528.6, 13)\n",
      "(1002.2, 527.6, 17)\n",
      "(997.9, 543.3, 15)\n",
      "(989.0, 548.9, 14)\n",
      "(983.8, 550.7, 16)\n",
      "(978.6, 554.7, 15)\n",
      "(980.0, 560.9, 13)\n",
      "(978.1, 581.6, 33)\n",
      "(996.6, 577.0, 12)\n",
      "(1026.0, 578.4, 17)\n",
      "(1029.9, 578.0, 15)\n",
      "(1033.0, 582.1, 13)\n",
      "(1051.9, 573.6, 16)\n",
      "(1053.9, 572.1, 16)\n",
      "(1054.4, 571.8, 13)\n",
      "(1050.3, 572.1, 16)\n",
      "(1048.1, 577.7, 30)\n",
      "(1048.6, 597.9, 16)\n",
      "(1063.6, 572.0, 15)\n",
      "(1064.7, 565.6, 13)\n",
      "(1067.2, 573.1, 17)\n",
      "(1066.3, 579.6, 15)\n",
      "(1062.7, 587.2, 13)\n",
      "(1057.5, 589.0, 16)\n",
      "(1048.3, 587.8, 16)\n",
      "(1051.4, 595.4, 32)\n",
      "(1042.3, 587.5, 12)\n",
      "(1039.3, 585.8, 14)\n",
      "(1033.9, 578.2, 17)\n",
      "(1033.0, 576.3, 20)\n",
      "(1028.2, 563.5, 14)\n",
      "(1028.2, 560.2, 11)\n",
      "(1028.1, 546.3, 15)\n",
      "(1024.2, 544.2, 13)\n",
      "(1019.3, 519.3, 39)\n",
      "(1013.5, 510.6, 12)\n",
      "(1007.7, 524.3, 12)\n",
      "(992.2, 555.1, 15)\n",
      "(979.2, 566.1, 13)\n",
      "(968.4, 567.9, 17)\n",
      "(968.6, 585.9, 15)\n",
      "(970.3, 591.6, 13)\n",
      "(968.8, 607.6, 16)\n",
      "(966.3, 607.7, 29)\n",
      "(964.1, 619.6, 15)\n",
      "(969.4, 620.1, 15)\n",
      "(967.3, 616.0, 14)\n",
      "(968.1, 614.7, 16)\n"
     ]
    }
   ],
   "source": [
    "cnt = 0\n",
    "for point in gaze_data():\n",
    "    if cnt > 100:\n",
    "        break\n",
    "    print point\n",
    "    cnt += 1"
   ]
  },
  {
   "cell_type": "code",
   "execution_count": 3,
   "metadata": {
    "collapsed": false
   },
   "outputs": [
    {
     "name": "stdout",
     "output_type": "stream",
     "text": [
      "loaded context 7450784\n"
     ]
    }
   ],
   "source": [
    "points = GazePoints()\n",
    "scratch = None\n",
    "max_x = None\n",
    "max_y = None\n",
    "min_x = None\n",
    "min_y = None\n",
    "@Renderer(window_size=(0,0), flags=pygame.FULLSCREEN)\n",
    "def gaze_point(**kwargs):\n",
    "    global scratch, max_x, max_y, min_x, min_y\n",
    "    display_info = pygame.display.Info()\n",
    "    display_size = (display_info.current_w, display_info.current_h)\n",
    "    if scratch is None:\n",
    "        scratch = np.zeros((display_size[0], display_size[1], 3), dtype=np.uint8)\n",
    "        scratch[:, :, :] = 255\n",
    "    point = points.get()\n",
    "    #x = min(point[0], display_size[0])\n",
    "    #x = max(x, 10)\n",
    "    #y = min(point[1], display_size[1])\n",
    "    #y = max(y, 10)\n",
    "\n",
    "    x = point[0]\n",
    "    y = point[1]\n",
    "\n",
    "    if max_x is None or x > max_x:\n",
    "        max_x = x\n",
    "    if max_y is None or y > max_y:\n",
    "        max_y = y\n",
    "    if min_x is None or x < min_x:\n",
    "        min_x = x\n",
    "    if min_y is None or y < min_y:\n",
    "        min_y = y\n",
    "    try:\n",
    "        scratch[int(x), int(y), :] = (0, 0, 0)\n",
    "    except:\n",
    "        pass\n",
    "   \n",
    "    return scratch"
   ]
  },
  {
   "cell_type": "code",
   "execution_count": 7,
   "metadata": {
    "collapsed": false
   },
   "outputs": [],
   "source": [
    "import gaze_data\n",
    "from Queue import Queue\n",
    "\n",
    "class PointQueue(object):\n",
    "    \n",
    "    def __init__(self):\n",
    "        self.q = Queue(maxsize=100)\n",
    "        self.stream = gaze_data.DataStream(self.add_point)\n",
    "        \n",
    "    def add_point(self, x, y):\n",
    "        self.q.put((x, y))\n",
    "        \n",
    "    def get(self):\n",
    "        return self.q.get()\n",
    "        "
   ]
  },
  {
   "cell_type": "code",
   "execution_count": 2,
   "metadata": {
    "collapsed": false
   },
   "outputs": [
    {
     "name": "stdout",
     "output_type": "stream",
     "text": [
      "loaded context 8397216\n"
     ]
    }
   ],
   "source": [
    "points = PointQueue()"
   ]
  },
  {
   "cell_type": "code",
   "execution_count": 6,
   "metadata": {
    "collapsed": false
   },
   "outputs": [],
   "source": [
    "import math\n",
    "points = GazePoints()\n",
    "@Renderer(window_size=(0,0), flags=pygame.FULLSCREEN)\n",
    "def gaze_point(**kwargs):\n",
    "    display_info = pygame.display.Info()\n",
    "    display_size = (display_info.current_w, display_info.current_h)\n",
    "    res = np.zeros((display_size[0], display_size[1], 3), dtype=np.uint8)\n",
    "    point = points.get()\n",
    "    frame_id = kwargs['frame_id']\n",
    "    #point = (frame_id % display_size[0], frame_id % display_size[1])\n",
    "    \n",
    "    #euclidean distance field\n",
    "    coords = np.mgrid[0:display_size[1], 0:display_size[0]].T\n",
    "    dx = coords[:, :, 0] - point[1]\n",
    "    dy = coords[:, :, 1] - point[0]\n",
    "    distances = np.sqrt(dx**2 + dy**2)\n",
    "    max_distance = np.max(distances)\n",
    "    distance_ints = (distances / max_distance * 255).astype(np.uint8)\n",
    "    \n",
    "    res[:, :, 0] = distance_ints\n",
    "    res[:, :, 1] = 128\n",
    "    res[:, :, 2] = distance_ints\n",
    "    \n",
    "    return res"
   ]
  },
  {
   "cell_type": "code",
   "execution_count": 41,
   "metadata": {
    "collapsed": false
   },
   "outputs": [
    {
     "data": {
      "text/plain": [
       "array([10, 10])"
      ]
     },
     "execution_count": 41,
     "metadata": {},
     "output_type": "execute_result"
    }
   ],
   "source": [
    "np.mgrid[0:100, 0:100].T[10, 10]"
   ]
  },
  {
   "cell_type": "code",
   "execution_count": 8,
   "metadata": {
    "collapsed": true
   },
   "outputs": [],
   "source": [
    "%load_ext Cython"
   ]
  },
  {
   "cell_type": "code",
   "execution_count": 1,
   "metadata": {
    "collapsed": false
   },
   "outputs": [],
   "source": [
    "import gaze_data"
   ]
  },
  {
   "cell_type": "code",
   "execution_count": 2,
   "metadata": {
    "collapsed": false
   },
   "outputs": [
    {
     "name": "stdout",
     "output_type": "stream",
     "text": [
      "loaded context 8818704\n"
     ]
    }
   ],
   "source": []
  },
  {
   "cell_type": "code",
   "execution_count": 3,
   "metadata": {
    "collapsed": false
   },
   "outputs": [
    {
     "data": {
      "text/plain": [
       "[(991.9627817264495, 1069.4232427384054),\n",
       " (976.9697991880523, 1073.0597348336373),\n",
       " (1066.5020475041263, 933.9038560232394),\n",
       " (1040.5993619601263, 997.5158789091838),\n",
       " (1002.9010723321159, 1050.443255032236),\n",
       " (985.3672512682385, 1048.39046722567),\n",
       " (943.5181883352036, 1088.432515618868),\n",
       " (933.9411604330621, 1129.5299685488092),\n",
       " (872.3828951285805, 1135.1213675726694),\n",
       " (859.3436666976396, 1115.8523639285088)]"
      ]
     },
     "execution_count": 3,
     "metadata": {},
     "output_type": "execute_result"
    }
   ],
   "source": [
    "points[-10:]"
   ]
  },
  {
   "cell_type": "code",
   "execution_count": 10,
   "metadata": {
    "collapsed": false
   },
   "outputs": [],
   "source": [
    "del runner"
   ]
  },
  {
   "cell_type": "code",
   "execution_count": null,
   "metadata": {
    "collapsed": true
   },
   "outputs": [],
   "source": []
  }
 ],
 "metadata": {
  "kernelspec": {
   "display_name": "Python 2",
   "language": "python",
   "name": "python2"
  },
  "language_info": {
   "codemirror_mode": {
    "name": "ipython",
    "version": 2
   },
   "file_extension": ".py",
   "mimetype": "text/x-python",
   "name": "python",
   "nbconvert_exporter": "python",
   "pygments_lexer": "ipython2",
   "version": "2.7.11"
  }
 },
 "nbformat": 4,
 "nbformat_minor": 0
}
