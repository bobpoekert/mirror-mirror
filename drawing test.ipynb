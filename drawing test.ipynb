{
 "cells": [
  {
   "cell_type": "code",
   "execution_count": 4,
   "metadata": {
    "collapsed": false
   },
   "outputs": [],
   "source": [
    "import pygame\n",
    "from pygame.locals import *\n",
    "import numpy as np\n",
    "class Renderer(object):\n",
    "    \n",
    "    def __init__(self, window_size=(1024, 768), render_fn=None, inplace=False, init=None):\n",
    "        self.window_size = window_size\n",
    "        self.inplace = inplace\n",
    "        self.render_fn = render_fn\n",
    "        if init is not None:\n",
    "            assert init.dtype == np.uint8 and init.shape == (window_size[0], window_size[1], 3), 'wrong type or shape for init'\n",
    "            self.pixarray = init\n",
    "        else:\n",
    "            self.pixarray = np.zeros((window_size[0], window_size[1], 3), dtype=np.uint8)\n",
    "        self.screen = pygame.display.set_mode(window_size)\n",
    "\n",
    "        \n",
    "    def render_loop(self):\n",
    "        ctr = 0\n",
    "        try:\n",
    "            while 1:\n",
    "                for event in pygame.event.get():\n",
    "                    if event.type == QUIT:\n",
    "                       raise StopIteration()\n",
    "\n",
    "                if self.render_fn is not None:\n",
    "                    if self.inplace:\n",
    "                        self.render_fn(buf=self.pixarray, frame_id=ctr)\n",
    "                        new_pix = self.pixarray\n",
    "                    else:\n",
    "                        new_pix = self.render_fn(buf=self.pixarray, frame_id=ctr).astype(np.uint8)\n",
    "                    pygame.surfarray.blit_array(self.screen, new_pix)\n",
    "                    pygame.display.flip()\n",
    "                    self.pixarray = new_pix\n",
    "                    ctr += 1\n",
    "        except StopIteration:\n",
    "            pass\n",
    "        finally:\n",
    "            pygame.display.quit()\n",
    "\n",
    "                \n",
    "    def __call__(self, fn):\n",
    "        \"decorator sugar\"\n",
    "        self.render_fn = fn\n",
    "        self.render_loop()\n",
    "        return fn"
   ]
  },
  {
   "cell_type": "code",
   "execution_count": 24,
   "metadata": {
    "collapsed": false
   },
   "outputs": [],
   "source": [
    "@Renderer(window_size=(1280, 1024))\n",
    "def noise(buf, frame_id):\n",
    "    return (np.random.rand(*buf.shape) * 255)"
   ]
  },
  {
   "cell_type": "code",
   "execution_count": 20,
   "metadata": {
    "collapsed": false
   },
   "outputs": [],
   "source": [
    "@Renderer(init=(np.random.rand(1024, 768, 3) * 255).astype(np.uint8))\n",
    "def pulse(buf, frame_id):\n",
    "    res = (np.sin(np.roll(buf, 12)) * 128).astype(np.uint8)\n",
    "    return res"
   ]
  },
  {
   "cell_type": "code",
   "execution_count": 26,
   "metadata": {
    "collapsed": false
   },
   "outputs": [],
   "source": [
    "%load_ext Cython"
   ]
  },
  {
   "cell_type": "code",
   "execution_count": null,
   "metadata": {
    "collapsed": true
   },
   "outputs": [],
   "source": [
    "%%cython\n",
    "\n"
   ]
  }
 ],
 "metadata": {
  "kernelspec": {
   "display_name": "Python 2",
   "language": "python",
   "name": "python2"
  },
  "language_info": {
   "codemirror_mode": {
    "name": "ipython",
    "version": 2
   },
   "file_extension": ".py",
   "mimetype": "text/x-python",
   "name": "python",
   "nbconvert_exporter": "python",
   "pygments_lexer": "ipython2",
   "version": "2.7.11"
  }
 },
 "nbformat": 4,
 "nbformat_minor": 0
}
